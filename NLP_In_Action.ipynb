{
  "nbformat": 4,
  "nbformat_minor": 0,
  "metadata": {
    "colab": {
      "private_outputs": true,
      "provenance": [],
      "authorship_tag": "ABX9TyMHezW35X2p9ojPWTEb67lQ",
      "include_colab_link": true
    },
    "kernelspec": {
      "name": "python3",
      "display_name": "Python 3"
    },
    "language_info": {
      "name": "python"
    }
  },
  "cells": [
    {
      "cell_type": "markdown",
      "metadata": {
        "id": "view-in-github",
        "colab_type": "text"
      },
      "source": [
        "<a href=\"https://colab.research.google.com/github/Aftabgazali/NLP-in-Action/blob/main/NLP_In_Action.ipynb\" target=\"_parent\"><img src=\"https://colab.research.google.com/assets/colab-badge.svg\" alt=\"Open In Colab\"/></a>"
      ]
    },
    {
      "cell_type": "markdown",
      "source": [
        "# Text Preprocessing"
      ],
      "metadata": {
        "id": "4NFqRV0f-bDS"
      }
    },
    {
      "cell_type": "markdown",
      "source": [
        "## Tokenization"
      ],
      "metadata": {
        "id": "hELeE3wIr6oE"
      }
    },
    {
      "cell_type": "code",
      "source": [
        "!pip install nltk\n",
        "!pip install spacy\n",
        "import nltk\n",
        "nltk.download('words')\n",
        "nltk.download('punkt')\n",
        "nltk.download('wordnet')\n",
        "nltk.download('averaged_perceptron_tagger')\n",
        "nltk.download('maxent_ne_chunker')"
      ],
      "metadata": {
        "id": "FzFiNT6Ysuee"
      },
      "execution_count": null,
      "outputs": []
    },
    {
      "cell_type": "code",
      "source": [
        "import matplotlib\n",
        "matplotlib.use('Agg')"
      ],
      "metadata": {
        "id": "bjJq2TT1H-Vh"
      },
      "execution_count": null,
      "outputs": []
    },
    {
      "cell_type": "markdown",
      "source": [
        " **It's a process of converting a corpus(paragraphs) into a documents(sentences) or into a vocabulary(unique words from a sentence)**"
      ],
      "metadata": {
        "id": "RIYQMYHSr84M"
      }
    },
    {
      "cell_type": "code",
      "source": [
        "corpus = \"\"\"Hello antiyo and antiyo!\n",
        "mei aur mere daddy mcnodald aye hue hai.\"\"\""
      ],
      "metadata": {
        "id": "EXfZqkMsgLXw"
      },
      "execution_count": null,
      "outputs": []
    },
    {
      "cell_type": "code",
      "source": [
        "print(corpus)"
      ],
      "metadata": {
        "id": "VYRqrVsJs1Cv"
      },
      "execution_count": null,
      "outputs": []
    },
    {
      "cell_type": "markdown",
      "source": [
        "**Corpus ---> Documents**"
      ],
      "metadata": {
        "id": "ZrL7p9hFtZQs"
      }
    },
    {
      "cell_type": "code",
      "execution_count": null,
      "metadata": {
        "id": "M0ZVVbQCgInZ"
      },
      "outputs": [],
      "source": [
        "from nltk.tokenize import sent_tokenize\n",
        "\n",
        "documents = sent_tokenize(corpus)\n",
        "\n",
        "documents"
      ]
    },
    {
      "cell_type": "markdown",
      "source": [
        "**Documents ---> Vocabularies**"
      ],
      "metadata": {
        "id": "H5bXq5iGtcLC"
      }
    },
    {
      "cell_type": "code",
      "source": [
        "from nltk.tokenize import word_tokenize\n",
        "\n",
        "# word_tokenize accepts a string hence we apply the loop over the documents list\n",
        "for document in documents:\n",
        "  vocabulary = word_tokenize(document)\n",
        "  print(vocabulary)\n",
        "\n"
      ],
      "metadata": {
        "id": "bYE7vXWXtg5e"
      },
      "execution_count": null,
      "outputs": []
    },
    {
      "cell_type": "markdown",
      "source": [
        "**There are few other vocabulary tokenizers**\n",
        "* `wordpunt_tokenize`: *splits punctuations as well*\n",
        "* `TreebankWordTOokenizer`: *doesn't consider '.' as seperate word, however last full stop will be a separate word*"
      ],
      "metadata": {
        "id": "skV_mKvUt7jB"
      }
    },
    {
      "cell_type": "code",
      "source": [
        "from nltk.tokenize import wordpunct_tokenize\n",
        "\n",
        "for document in documents:\n",
        "  vocabulary = wordpunct_tokenize(document)\n",
        "  print(vocabulary)"
      ],
      "metadata": {
        "id": "UEaDn8eGt-pl"
      },
      "execution_count": null,
      "outputs": []
    },
    {
      "cell_type": "code",
      "source": [
        "from nltk.tokenize import TreebankWordTokenizer\n",
        "\n",
        "for document in documents:\n",
        "  vocabulary = TreebankWordTokenizer()\n",
        "  print(vocabulary.tokenize(document))"
      ],
      "metadata": {
        "id": "UMPdNYrmuYA9"
      },
      "execution_count": null,
      "outputs": []
    },
    {
      "cell_type": "markdown",
      "source": [
        "## Stemming\n",
        "**Breaking the word into its root form**\n",
        "\n",
        "* `PorterStemmer()` **basic one has few bugs where it changes the meaning of the words for example flying --> fli**\n",
        "\n",
        "* `RegexpStemmer()` **accepts few inputs ing$, s$, e$, able$ this means that whenever we have a word which ends with ing it will remove it, '$' sign indicate where do we want to remove it if placed after the filter it will remove from the end of the word and if not given, then it will remove at all places**\n",
        "\n",
        "* `Snowball Stemmer()` **Performance better than both of the stemmer, it accepts language as an input, one more advantage is that it lowerCases all the words which is helpful, as now 'I' and 'i' will mean the same**"
      ],
      "metadata": {
        "id": "GXzclNQQvbxI"
      }
    },
    {
      "cell_type": "code",
      "source": [
        "from nltk.stem import PorterStemmer\n",
        "\n",
        "words = ['ingeating','eats','eaten','flying','shooting','finally']\n",
        "\n",
        "\n",
        "stem = PorterStemmer()\n",
        "for word in words:\n",
        "  print(f\"{word} --->{stem.stem(word)}\")"
      ],
      "metadata": {
        "id": "HF0BWT2QvdPo"
      },
      "execution_count": null,
      "outputs": []
    },
    {
      "cell_type": "code",
      "source": [
        "from nltk.stem import RegexpStemmer\n",
        "\n",
        "stem = RegexpStemmer('ing$|s$|e$|able$', min=4)\n",
        "for word in words:\n",
        "  print(f\"{word} ---> {stem.stem(word)}\")"
      ],
      "metadata": {
        "id": "JwybI0YP7gz2"
      },
      "execution_count": null,
      "outputs": []
    },
    {
      "cell_type": "code",
      "source": [
        "# It will remove 'ing' from both place\n",
        "stem = RegexpStemmer('ing|s$|e$|able$', min=4)\n",
        "for word in words:\n",
        "  print(f\"{word} ---> {stem.stem(word)}\")"
      ],
      "metadata": {
        "id": "0Dgbky1o7hPZ"
      },
      "execution_count": null,
      "outputs": []
    },
    {
      "cell_type": "code",
      "source": [
        "from nltk.stem import SnowballStemmer\n",
        "\n",
        "stem = SnowballStemmer('english')\n",
        "\n",
        "for word in words:\n",
        "  print(f\"{word} ---> {stem.stem(word)}\")"
      ],
      "metadata": {
        "id": "-xAvgVbE7hKu"
      },
      "execution_count": null,
      "outputs": []
    },
    {
      "cell_type": "markdown",
      "source": [
        "## Lemmatization\n",
        "**Better than Stemming, as the meaning of the word is not changed**\n",
        "* `WordNetLemmatizer()` **takes pos attribute as input, for noun-n, for verb-v,adjective-a, adverb-r**"
      ],
      "metadata": {
        "id": "IWtYq78e-BGu"
      }
    },
    {
      "cell_type": "code",
      "source": [
        "from nltk.stem import WordNetLemmatizer\n",
        "\n",
        "lemmatizer = WordNetLemmatizer()\n",
        "\n",
        "for word in words:\n",
        "  print(f\"{word} ---> {lemmatizer.lemmatize(word, pos='v')}\")\n",
        "\n"
      ],
      "metadata": {
        "id": "nW9JCzgN7hH-"
      },
      "execution_count": null,
      "outputs": []
    },
    {
      "cell_type": "code",
      "source": [],
      "metadata": {
        "id": "xP7OmRnX7hFf"
      },
      "execution_count": null,
      "outputs": []
    },
    {
      "cell_type": "markdown",
      "source": [
        "## StopWords\n",
        "* `stopwords` **Removing all the unwanted stop words like the, although, however, somehow and so on... takes language as the input**"
      ],
      "metadata": {
        "id": "eGWwjsBID4Gy"
      }
    },
    {
      "cell_type": "code",
      "source": [
        "from nltk.corpus import stopwords\n",
        "nltk.download('stopwords')"
      ],
      "metadata": {
        "id": "0WsT9hPGExAZ"
      },
      "execution_count": null,
      "outputs": []
    },
    {
      "cell_type": "code",
      "source": [
        "corpus = \"\"\"If you have any complaint to make about the results of your efforts hitherto, or about myself as your commander, there is no more to say. But let me remind you: through your courage and endurance you have gained possession of Ionia, the Hellespont, both Phrygias, Cappadocia, Paphlagonia, Lydia, Caria, Lycia, Pamphylia, Phoenicia, and Egypt; the Greek part of Libya is now yours, together with much of Arabia, lowland Syria, Mesopotamia, Babylon, and Susia; Persia and Media with all the territories either formerly controlled by them or not are in your hands; you have made yourselves masters of the lands beyond the Caspian Gates, beyond the Caucasus, beyond the Tanais, of Bactria, Hyrcania, and the Hyrcanian sea; we have driven the Scythians back into the desert; and Indus and Hydaspes, Acesines and Hydraotes flow now through country which is ours. With all that accomplished, why do you hesitate to extend the power of Macedon–yourpower–to the Hyphasis and the tribes on the other side ? Are you afraid that a few natives who may still be left will offer opposition? Come, come! These natives either surrender without a blow or are caught on the run–or leave their country undefended for your taking; and when we take it, we make a present of it to those who have joined us of their own free will and fight on our side.\n",
        "\n",
        "For a man who is a man, work, in my belief, if it is directed to noble ends, has no object beyond itself; none the less, if any of you wish to know what limit may be set to this particular camapaign, let me tell you that the area of country still ahead of us, from here to the Ganges and the Eastern ocean, is comparatively small. You will undoubtedly find that this ocean is connected with the Hyrcanian Sea, for the great Stream of Ocean encircles the earth. Moreover I shall prove to you, my friends, that the Indian and Persian Gulfs and the Hyrcanian Sea are all three connected and continuous. Our ships will sail round from the Persian Gulf to Libya as far as the Pillars of Hercules, whence all Libya to the eastward will soon be ours, and all Asia too, and to this empire there will be no boundaries but what God Himself has made for the whole world.\n",
        "\n",
        "But if you turn back now, there will remain unconquered many warlike peoples between the Hyphasis and the Eastern Ocean, and many more to the northward and the Hyrcanian Sea, with the Scythians, too, not far away; so that if we withdraw now there is a danger that the territory which we do not yet securely hold may be stirred to revolt by some nation or other we have not yet forced into submission. Should that happen, all that we have done and suffered will have proved fruitless–or we shall be faced with the task of doing it over again from the beginning. Gentlemen of Macedon, and you, my friends and allies, this must not be. Stand firm; for well you know that hardship and danger are the price of glory, and that sweet is the savour of a life of courage and of deathless renown beyond the grave.\n",
        "\n",
        "Are you not aware that if Heracles, my ancestor, had gone no further than Tiryns or Argos–or even than the Peloponnese or Thebes–he could never have won the glory which changed him from a man into a god, actual or apparent? Even Dionysus, who is a god indeed, in a sense beyond what is applicable to Heracles, faced not a few laborious tasks; yet we have done more: we have passed beyond Nysa and we have taken the rock of Aornos which Heracles himself could not take. Come, then; add the rest of Asia to what you already possess–a small addition to the great sum of your conquests. What great or noble work could we ourselves have achieved had we thought it enough, living at ease in Macedon, merely to guard our homes, accepting no burden beyond checking the encroachment of the Thracians on our borders, or the Illyrians and Triballians, or perhaps such Greeks as might prove a menace to our comfort ?\n",
        "\n",
        "I could not have blamed you for being the first to lose heart if I, your commander, had not shared in your exhausting marches and your perilous campaigns; it would have been natural enough if you had done all the work merely for others to reap the reward. But it is not so. You and I, gentlemen, have shared the labour and shared the danger, and the rewards are for us all. The conquered territory belongs to you; from your ranks the governors of it are chosen; already the greater part of its treasure passes into your hands, and when all Asia is overrun, then indeed I will go further than the mere satisfaction of our ambitions: the utmost hopes of riches or power which each one of you cherishes will be far surpassed, and whoever wishes to return home will be allowed to go, either with me or without me. I will make those who stay the envy of those who return.\"\"\"\n",
        "\n",
        "print(corpus)"
      ],
      "metadata": {
        "id": "UctppGA7Eamm"
      },
      "execution_count": null,
      "outputs": []
    },
    {
      "cell_type": "markdown",
      "source": [
        "**First apply tokenization (corpus --> Documents --> Words) then apply stemming on words only if they are not present in the stopwords**"
      ],
      "metadata": {
        "id": "BfIuObq9EyoT"
      }
    },
    {
      "cell_type": "code",
      "source": [
        "documents = nltk.sent_tokenize(corpus)\n",
        "documents"
      ],
      "metadata": {
        "id": "rGFWBBZ9E_1p"
      },
      "execution_count": null,
      "outputs": []
    },
    {
      "cell_type": "code",
      "source": [
        "for i in range(len(documents)):\n",
        "  words = nltk.word_tokenize(documents[i])\n",
        "  words = [stem.stem(word) for word in words if word not in set(stopwords.words('english'))]\n",
        "  documents[i] = ' '.join(words)"
      ],
      "metadata": {
        "id": "nFZsMvfLEkC3"
      },
      "execution_count": null,
      "outputs": []
    },
    {
      "cell_type": "code",
      "source": [
        "documents"
      ],
      "metadata": {
        "id": "5Hd2WnjTFnNm"
      },
      "execution_count": null,
      "outputs": []
    },
    {
      "cell_type": "markdown",
      "source": [
        "**Trying out using lemmatizer for better results**"
      ],
      "metadata": {
        "id": "-NcLGuv1F3av"
      }
    },
    {
      "cell_type": "code",
      "source": [
        "for i in range(len(documents)):\n",
        "  words = nltk.word_tokenize(documents[i])\n",
        "  words = [lemmatizer.lemmatize(word.lower()) for word in words if word not in set(stopwords.words('english'))]\n",
        "  # Joing back to the documents/sentence\n",
        "  documents[i] = ' '.join(words)\n",
        "documents"
      ],
      "metadata": {
        "id": "e-doz_EjF8J2"
      },
      "execution_count": null,
      "outputs": []
    },
    {
      "cell_type": "markdown",
      "source": [
        "## Short Exercise"
      ],
      "metadata": {
        "id": "p3gKe1jpNnzY"
      }
    },
    {
      "cell_type": "code",
      "source": [
        "corpus = \"\"\"Inflation rose again in April, continuing a climb that has pushed consumers to the brink and is threatening the economic expansion, the Bureau of Labor Statistics reported Wednesday.\\n\\nThe consumer price index, a broad-based measure of prices for goods and services, increased 8.3% from a year ago, higher than the Dow Jones estimate for an 8.1% gain. That represented a slight ease from Marchâ€™s peak but was still close to the highest level since the summer of 1982.\\n\\nRemoving volatile food and ene\"\"\"\n",
        "print(corpus)\n"
      ],
      "metadata": {
        "id": "fKsUCAMdNqgC"
      },
      "execution_count": null,
      "outputs": []
    },
    {
      "cell_type": "code",
      "source": [
        "doc = nlp(corpus)\n",
        "doc"
      ],
      "metadata": {
        "id": "h085ynOzN5zo"
      },
      "execution_count": null,
      "outputs": []
    },
    {
      "cell_type": "markdown",
      "source": [
        "**Extract only the NOUN Tokens in a list and NUM separately**"
      ],
      "metadata": {
        "id": "8PaxQUIaN88Z"
      }
    },
    {
      "cell_type": "code",
      "source": [
        "noun_filtered_list = []\n",
        "num_filtered_list = []\n",
        "for token in doc:\n",
        "  if token.pos_ in [\"NOUN\"]:\n",
        "    noun_filtered_list.append(token)\n",
        "  elif token.pos_ in ['NUM']:\n",
        "    num_filtered_list.append(token)\n",
        "\n",
        "num_filtered_list"
      ],
      "metadata": {
        "id": "fNSEXF3mOAND"
      },
      "execution_count": null,
      "outputs": []
    },
    {
      "cell_type": "markdown",
      "source": [
        "**Print count of all POS tags**"
      ],
      "metadata": {
        "id": "1TW6slMqO10O"
      }
    },
    {
      "cell_type": "code",
      "source": [
        "pos_tag_counts = doc.count_by(spacy.attrs.POS)\n",
        "\n",
        "for key, val in pos_tag_counts.items():\n",
        "  print(f\"{doc.vocab[key].text} | {val} counts\")"
      ],
      "metadata": {
        "id": "k2YbnSlqO4kQ"
      },
      "execution_count": null,
      "outputs": []
    },
    {
      "cell_type": "markdown",
      "source": [
        "##![Screenshot 2024-02-25 221852.png](data:image/png;base64,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) Named Entity Recognition\n",
        "\n",
        "***For example from a text you want to extract details like whether the word is a company or a person or a number or a products and so on...***\n",
        "\n",
        "***Another use case would be, imagine if you have any problem related to your machine, the NER will detect whether from the given text it's a problem of hardware or software by picking up relevant entity and this could be useful to route the ticket to the specific team***\n",
        "\n",
        "*Tesla Inc | ORG | Companies, agencies, institutions, etc.*\n",
        "\n",
        "*$45 billion | MONEY | Monetary values, including unit*"
      ],
      "metadata": {
        "id": "yawI32ccPeMS"
      }
    },
    {
      "cell_type": "code",
      "source": [
        "import spacy\n",
        "nlp = spacy.load('en_core_web_sm')"
      ],
      "metadata": {
        "id": "AWrJL6RqQl7w"
      },
      "execution_count": null,
      "outputs": []
    },
    {
      "cell_type": "code",
      "source": [
        "nlp.pipe_names"
      ],
      "metadata": {
        "id": "0dKAIlLQP5Jk"
      },
      "execution_count": null,
      "outputs": []
    },
    {
      "cell_type": "code",
      "source": [
        "doc = nlp(\"Tesla Inc is going to acquire Twitter Inc for $45 billion\")\n",
        "\n",
        "for ent in doc.ents:\n",
        "  print(f\"{ent.text} | {ent.label_} | {spacy.explain(ent.label_)}\")"
      ],
      "metadata": {
        "id": "fr9NQuvbRFWO"
      },
      "execution_count": null,
      "outputs": []
    },
    {
      "cell_type": "code",
      "source": [
        "from spacy import displacy\n",
        "\n",
        "displacy.render(doc, style='ent')"
      ],
      "metadata": {
        "id": "Ilya7vd5RSnL"
      },
      "execution_count": null,
      "outputs": []
    },
    {
      "cell_type": "markdown",
      "source": [
        "**Creating our own custom entitiy**"
      ],
      "metadata": {
        "id": "U6gxoSq_hBMq"
      }
    },
    {
      "cell_type": "code",
      "source": [
        "doc[2:5]"
      ],
      "metadata": {
        "id": "0ACECxSAhJX9"
      },
      "execution_count": null,
      "outputs": []
    },
    {
      "cell_type": "markdown",
      "source": [
        "**Here I set 'Twitter' as MONEY Entity, I extracted Twitter from doc by specifying the label [inclusive,exclusive]**"
      ],
      "metadata": {
        "id": "9TN4AUG6hnx_"
      }
    },
    {
      "cell_type": "code",
      "source": [
        "from spacy.tokens import Span\n",
        "\n",
        "s1 = Span(doc, 0,1,label='ORG')\n",
        "s2 = Span(doc, 6,7,label=\"MONEY\")\n",
        "\n",
        "#set the span, and keep the rest as unchanged\n",
        "doc.set_ents([s1,s2], default='unmodified')\n",
        "\n",
        "displacy.render(doc, style='ent')"
      ],
      "metadata": {
        "id": "ivCBlkJxhLa2"
      },
      "execution_count": null,
      "outputs": []
    },
    {
      "cell_type": "markdown",
      "source": [
        "# Feature Engineering\n",
        "* ***`One Hot Encoding & Label Encoder`:*** **are no longer used because they suffer from various problems such as occupying a lot of computational memory, as we know one hot encoding creates a separate vectors for each unique words, imagine in an email if you have 500k words then there will be 500k unique vectors for each words. It also suffers from OVR problem wherein if a new word is introduced which is not present in the vector space to represent them in the OHE will be difficult and redundant**\n",
        "\n",
        "* ***`Bag of Words`:*** **It creates a count vectorizers for each document, imagine you have 5 email having one document each, so the number of rows in the count vectorizer will be 5 and the number of column will be all the unqiue words present in whole 5 email. Then corresponding to the first email we are going to increase the count of that word that occurs in that email the rest of the words will marked as zero and as there will be a lot of unique words present in the column most of them will be zero (those words which doesn't occur in the first doc) hence it is called as Sparse Matrix, The number of rows in the count vectorizer is not necessarily equal to the number of documents. Instead, the count vectorizer creates a separate row (vector) for each document, but the total number of rows is equal to the number of documents multiplied by the number of unique words in the entire corpus.**\n",
        "\n",
        "* ***`Stopwords`:*** **Stop words are an efficient approach which can help us improve the accuracy of BOW Model, however there are instances where we should not apply this technique, mainly during Sentiment analysis as 'not' is also a stopword, also while making chat bots and so on..**\n",
        "\n",
        "* ***`n-gram BOW`:*** **BOW is a special case of n-gram BOW wherein n=1 that mean the words are separated by n, for n=2 the words will be separated like like Alice walk, He ate and so on...This reduces the sparcity and reduces computation as the matrix size will be reduce with increasing value of n**\n",
        "\n",
        "* ***`Tf-Idf`:*** What is TF-IDF?\n",
        "\n",
        "    TF stands for Term Frequency and denotes the ratio of number of times a particular word appeared in a Document to total number of words in the document.\n",
        "\n",
        "       Term Frequency(TF) = [number of times word appeared / total no of words in a document]\n",
        "\n",
        "    Term Frequency values ranges between 0 and 1. If a word occurs more number of times, then it's value will be close to 1.\n",
        "\n",
        "    IDF stands for Inverse Document Frequency and denotes the log of ratio of total number of documents/datapoints in the whole dataset to the number of documents that contains the particular word.\n",
        "\n",
        "       Inverse Document Frequency(IDF) = [log(Total number of documents / number of documents that contains the word)]\n",
        "\n",
        "    In IDF, if a word occured in more number of documents and is common across all documents, then it's value will be less and ratio will approaches to 0.\n",
        "\n",
        "    Finally:\n",
        "\n",
        "       TF-IDF = Term Frequency(TF) * Inverse Document Frequency(IDF)\n",
        "    \n",
        "* ***`WordEmbedding:`*** ***Offers a more dense representation compared to traditional sparse representations like one-hot encoding. Word embeddings capture semantic relationships between words. Words with similar meanings are represented by vectors that are closer together in the embedding space, enabling the model to understand and leverage semantic relationships during training.***\n",
        "\n",
        "\n"
      ],
      "metadata": {
        "id": "jpN4bALkk-KW"
      }
    },
    {
      "cell_type": "markdown",
      "source": [
        "### ***Implementing a Spam or Ham Classifier using BOW***"
      ],
      "metadata": {
        "id": "xvMUm8Y3TOIi"
      }
    },
    {
      "cell_type": "code",
      "source": [
        "import pandas as pd\n",
        "df = pd.read_csv('spam.csv')\n",
        "df.head()"
      ],
      "metadata": {
        "id": "nWFr5OO7lrV0"
      },
      "execution_count": null,
      "outputs": []
    },
    {
      "cell_type": "markdown",
      "source": [
        "**It's an imbalance Dataset**"
      ],
      "metadata": {
        "id": "beZIkjrypH_c"
      }
    },
    {
      "cell_type": "code",
      "source": [
        "df['Category'].value_counts()"
      ],
      "metadata": {
        "id": "WpdfDQ-3pDmJ"
      },
      "execution_count": null,
      "outputs": []
    },
    {
      "cell_type": "code",
      "source": [
        "X, y = df['Message'].values, df['Category'].values"
      ],
      "metadata": {
        "id": "UV0aO5RQorPV"
      },
      "execution_count": null,
      "outputs": []
    },
    {
      "cell_type": "markdown",
      "source": [
        "**Encode the Dependent Variable**"
      ],
      "metadata": {
        "id": "HWOkYXdRpK_c"
      }
    },
    {
      "cell_type": "code",
      "source": [
        "from sklearn.preprocessing import LabelEncoder\n",
        "le = LabelEncoder()\n",
        "y = le.fit_transform(y)"
      ],
      "metadata": {
        "id": "WfycJlsmofmd"
      },
      "execution_count": null,
      "outputs": []
    },
    {
      "cell_type": "markdown",
      "source": [
        "*Spam-->1 ham-->0*"
      ],
      "metadata": {
        "id": "5hUOHTUVo_bn"
      }
    },
    {
      "cell_type": "code",
      "source": [
        "y[:5][0]"
      ],
      "metadata": {
        "id": "Q47MRHJPo6Mv"
      },
      "execution_count": null,
      "outputs": []
    },
    {
      "cell_type": "code",
      "source": [
        "X[:5][0]"
      ],
      "metadata": {
        "id": "SD6Sju8bpOdv"
      },
      "execution_count": null,
      "outputs": []
    },
    {
      "cell_type": "markdown",
      "source": [
        "**Splitting the data 80/20 %**"
      ],
      "metadata": {
        "id": "rYI_8g9epkXC"
      }
    },
    {
      "cell_type": "code",
      "source": [
        "from sklearn.model_selection import train_test_split\n",
        "\n",
        "X_train, X_test, y_train, y_test = train_test_split(X,y, test_size=0.2, stratify=y)"
      ],
      "metadata": {
        "id": "P-Gfe-1Mpm1_"
      },
      "execution_count": null,
      "outputs": []
    },
    {
      "cell_type": "code",
      "source": [
        "from sklearn.feature_extraction.text import CountVectorizer\n",
        "\n",
        "v = CountVectorizer()\n",
        "\n",
        "X_train_cv = v.fit_transform(X_train)\n",
        "X_test_cv = v.transform(X_test)"
      ],
      "metadata": {
        "id": "4dxGs8MppQFs"
      },
      "execution_count": null,
      "outputs": []
    },
    {
      "cell_type": "markdown",
      "source": [
        "**There are 7806 unique words in our Vocabulary**"
      ],
      "metadata": {
        "id": "82vLwH_mq2Bk"
      }
    },
    {
      "cell_type": "code",
      "source": [
        "X_train_cv.toarray().shape"
      ],
      "metadata": {
        "id": "APLkyMwfp7Ac"
      },
      "execution_count": null,
      "outputs": []
    },
    {
      "cell_type": "markdown",
      "source": [
        "**All the words that our vocabulary has**"
      ],
      "metadata": {
        "id": "D85hQrT5tC7_"
      }
    },
    {
      "cell_type": "code",
      "source": [
        "v.get_feature_names_out()[1000:1050]"
      ],
      "metadata": {
        "id": "3ek5ONGcqy3O"
      },
      "execution_count": null,
      "outputs": []
    },
    {
      "cell_type": "markdown",
      "source": [
        "**This will give which vocabulary is present at which index**"
      ],
      "metadata": {
        "id": "lPASQLYVtcjQ"
      }
    },
    {
      "cell_type": "code",
      "source": [
        "v.vocabulary_"
      ],
      "metadata": {
        "id": "kCjxVIRQtG3R"
      },
      "execution_count": null,
      "outputs": []
    },
    {
      "cell_type": "code",
      "source": [
        "v.get_feature_names_out()[7450]"
      ],
      "metadata": {
        "id": "ofBfJ4ajtV5i"
      },
      "execution_count": null,
      "outputs": []
    },
    {
      "cell_type": "markdown",
      "source": [
        "**Building the Model**"
      ],
      "metadata": {
        "id": "NINAJQjqxY7A"
      }
    },
    {
      "cell_type": "code",
      "source": [
        "from sklearn.naive_bayes import MultinomialNB\n",
        "\n",
        "model = MultinomialNB()\n",
        "\n",
        "model.fit(X_train_cv, y_train)"
      ],
      "metadata": {
        "id": "ptDF7UagxVyv"
      },
      "execution_count": null,
      "outputs": []
    },
    {
      "cell_type": "code",
      "source": [
        "y_train_preds = model.predict(X_train_cv)\n",
        "y_test_preds = model.predict(X_test_cv)"
      ],
      "metadata": {
        "id": "CzlVzUGzx5Ba"
      },
      "execution_count": null,
      "outputs": []
    },
    {
      "cell_type": "code",
      "source": [
        "from sklearn.metrics import accuracy_score\n",
        "print(f\"Training Accuracy {accuracy_score(y_train, y_train_preds)*100:.2f}% | Testing Accuracy {accuracy_score(y_test, y_test_preds)*100:.2f}%\")"
      ],
      "metadata": {
        "id": "zd70a56pxlOY"
      },
      "execution_count": null,
      "outputs": []
    },
    {
      "cell_type": "code",
      "source": [
        "import seaborn as sns\n",
        "import matplotlib.pyplot as plt\n",
        "from sklearn.metrics import classification_report\n",
        "from sklearn.metrics import confusion_matrix\n",
        "\n",
        "# Assuming you have the true labels and predicted labels\n",
        "true_labels = y_test  # True labels\n",
        "predicted_labels = y_test_preds  # Predicted labels\n",
        "\n",
        "# Generate classification report\n",
        "report = classification_report(true_labels, predicted_labels, output_dict=True)\n",
        "custom_palette = sns.color_palette(\"coolwarm\", as_cmap=True)\n",
        "# Convert classification report to DataFrame for visualization\n",
        "df_report = pd.DataFrame(report).transpose()\n",
        "\n",
        "# Plotting\n",
        "plt.figure(figsize=(10, 6))\n",
        "sns.heatmap(df_report.iloc[:-1, :-1], annot=True, cmap=custom_palette, fmt='g')\n",
        "plt.title('Classification Report')\n",
        "plt.show()\n"
      ],
      "metadata": {
        "id": "nBp_3SKtyRft"
      },
      "execution_count": null,
      "outputs": []
    },
    {
      "cell_type": "code",
      "source": [
        "emails = ['Hey Aftab, can we get together to watch football game tommorow? ',\n",
        "          'Upto 90% discount Wow!! you get $1000 off on your first purchase from us']\n",
        "\n",
        "email_cv = v.transform(emails)"
      ],
      "metadata": {
        "id": "qnJw9gEay80q"
      },
      "execution_count": null,
      "outputs": []
    },
    {
      "cell_type": "code",
      "source": [
        "test_pred = model.predict(email_cv)"
      ],
      "metadata": {
        "id": "_C-CtAR0zWQV"
      },
      "execution_count": null,
      "outputs": []
    },
    {
      "cell_type": "markdown",
      "source": [
        "**It predicted first as not spam, and the second as Spam**"
      ],
      "metadata": {
        "id": "UsbNI-tTzbxT"
      }
    },
    {
      "cell_type": "code",
      "source": [
        "test_pred"
      ],
      "metadata": {
        "id": "UEXrRlHIzZh9"
      },
      "execution_count": null,
      "outputs": []
    },
    {
      "cell_type": "markdown",
      "source": [
        "**Doing the same thing using Pipeline**"
      ],
      "metadata": {
        "id": "GJPxub1Y1Adt"
      }
    },
    {
      "cell_type": "code",
      "source": [
        "from sklearn.pipeline import make_pipeline\n",
        "from sklearn.linear_model import LogisticRegression\n",
        "nb_model_pipeline = make_pipeline(CountVectorizer(), MultinomialNB())\n",
        "lg_model_pipeline = make_pipeline(CountVectorizer(), LogisticRegression(C=0.01,solver='lbfgs',penalty='l2'))\n",
        "\n",
        "nb_model_pipeline.fit(X_train, y_train)\n",
        "lg_model_pipeline.fit(X_train,y_train)"
      ],
      "metadata": {
        "id": "fVQmYKh11DSP"
      },
      "execution_count": null,
      "outputs": []
    },
    {
      "cell_type": "code",
      "source": [
        "print(f\"Testing Accuracy of Gaussian Nb {nb_model_pipeline.score(X_test, y_test)*100:.2f}%\")\n",
        "print(f\"Testing Accuracy of Logistic Model {lg_model_pipeline.score(X_test, y_test)*100:.2f}%\")"
      ],
      "metadata": {
        "id": "Zi9fLogH1Ro5"
      },
      "execution_count": null,
      "outputs": []
    },
    {
      "cell_type": "markdown",
      "source": [
        "### ***Let's look at how we can apply Stop words on a dataset***"
      ],
      "metadata": {
        "id": "QFhIlP-Z78R-"
      }
    },
    {
      "cell_type": "code",
      "source": [
        "df = pd.read_csv('spam.csv')\n",
        "df.head()"
      ],
      "metadata": {
        "id": "kGl4Ax-Z8CBP"
      },
      "execution_count": null,
      "outputs": []
    },
    {
      "cell_type": "code",
      "source": [
        "df.shape"
      ],
      "metadata": {
        "id": "_rktGHd68FwY"
      },
      "execution_count": null,
      "outputs": []
    },
    {
      "cell_type": "markdown",
      "source": [
        "**Let's reduce the size of the dataset for better understandibility**"
      ],
      "metadata": {
        "id": "NIrw-LcH8L4R"
      }
    },
    {
      "cell_type": "code",
      "source": [
        "df = df.head(100)\n",
        "df.shape"
      ],
      "metadata": {
        "id": "HYdDfXb78HTY"
      },
      "execution_count": null,
      "outputs": []
    },
    {
      "cell_type": "code",
      "source": [
        "df['Message'][0]"
      ],
      "metadata": {
        "id": "RK6QGclK8opk"
      },
      "execution_count": null,
      "outputs": []
    },
    {
      "cell_type": "markdown",
      "source": [
        "**A method that removes the stop words and punctuations from a given text and returns a list of words without any stop words**"
      ],
      "metadata": {
        "id": "LPsNQGiM9Da1"
      }
    },
    {
      "cell_type": "code",
      "source": [
        "def preprocess(text):\n",
        "  doc = nlp(text)\n",
        "  text_without_stopwords = [token.text for token in doc if not token.is_stop and not token.is_punct]\n",
        "\n",
        "  # If we want a doc string back we can convert list to string using \" \".join(list)\n",
        "  return \" \".join(text_without_stopwords)\n",
        "  #return text_without_stopwords"
      ],
      "metadata": {
        "id": "Zskk_XKx8Qah"
      },
      "execution_count": null,
      "outputs": []
    },
    {
      "cell_type": "code",
      "source": [
        "preprocess('Go until jurong point, crazy.. Available only in bugis! n great world, la e buffet... Cine there got amore wat...')"
      ],
      "metadata": {
        "id": "E99Gy0bP8lDR"
      },
      "execution_count": null,
      "outputs": []
    },
    {
      "cell_type": "code",
      "source": [
        "df.head()"
      ],
      "metadata": {
        "id": "E3HfHJYz9bua"
      },
      "execution_count": null,
      "outputs": []
    },
    {
      "cell_type": "markdown",
      "source": [
        "**To make changes on any Series we have to use `apply()` function**"
      ],
      "metadata": {
        "id": "jGUAzIdbJmsh"
      }
    },
    {
      "cell_type": "code",
      "source": [
        "df['new_message'] = df['Message'].apply(preprocess)\n",
        "df.head()"
      ],
      "metadata": {
        "id": "NpZjn6CM9ds_"
      },
      "execution_count": null,
      "outputs": []
    },
    {
      "cell_type": "code",
      "source": [
        "print(f\"Original Message {len(df['Message'][0])} | New Message reduced without stopwords {len(df['new_message'][0])} | reduced by {len(df['Message'][0]) - len(df['new_message'][0])} words\")"
      ],
      "metadata": {
        "id": "Cy9W0oMT9oj7"
      },
      "execution_count": null,
      "outputs": []
    },
    {
      "cell_type": "markdown",
      "source": [
        "### N-gram BOW\n",
        "\n",
        "***Applying both one-gram & bi-gram model `ngram_range=(1,2)`***"
      ],
      "metadata": {
        "id": "T_dNWsA8QJ9n"
      }
    },
    {
      "cell_type": "code",
      "source": [
        "from sklearn.feature_extraction.text import CountVectorizer\n",
        "v = CountVectorizer(ngram_range=(1,2))\n",
        "\n",
        "v.fit([\"Thor the norse god is looking for a job\"])\n",
        "v.vocabulary_"
      ],
      "metadata": {
        "id": "l8gR2P9JQLnz"
      },
      "execution_count": null,
      "outputs": []
    },
    {
      "cell_type": "markdown",
      "source": [
        "**Remove all the stop words & punctuations from the given text and print its print after lemmatization**"
      ],
      "metadata": {
        "id": "Q4ppRTlpQ9ll"
      }
    },
    {
      "cell_type": "code",
      "source": [
        "def preprocess_with_lemma(text):\n",
        "  doc = nlp(text)\n",
        "  filtered_list = [token.lemma_ for token in doc if not token.is_stop and not token.is_punct]\n",
        "  return \" \".join(filtered_list)\n",
        "\n",
        "preprocess_with_lemma(\"Loki is eating a pizza\")"
      ],
      "metadata": {
        "id": "UqHGf7PvRFwH"
      },
      "execution_count": null,
      "outputs": []
    },
    {
      "cell_type": "code",
      "source": [
        "corpus = [\n",
        "    \"Thor ate pizza\",\n",
        "    \"Loki was sleeping on the beach\",\n",
        "    \"I am finding it difficult to learn french\",\n",
        "    \"Munsur, takes class only twice a week\"\n",
        "]\n",
        "print(corpus)"
      ],
      "metadata": {
        "id": "yQshc2KXRtrl"
      },
      "execution_count": null,
      "outputs": []
    },
    {
      "cell_type": "code",
      "source": [
        "corpus_preprocessed = [preprocess_with_lemma(text) for text in corpus]\n",
        "corpus_preprocessed"
      ],
      "metadata": {
        "id": "aXxyc9GKR-wb"
      },
      "execution_count": null,
      "outputs": []
    },
    {
      "cell_type": "markdown",
      "source": [
        "***Now, apply the count vectorizer of bi-gram***"
      ],
      "metadata": {
        "id": "fSmr6GMsScB1"
      }
    },
    {
      "cell_type": "code",
      "source": [
        "from sklearn.feature_extraction.text import CountVectorizer\n",
        "cv = CountVectorizer(ngram_range=(1,2))\n",
        "cv.fit_transform(corpus_preprocessed)"
      ],
      "metadata": {
        "id": "vFJW7fgJSgvl"
      },
      "execution_count": null,
      "outputs": []
    },
    {
      "cell_type": "code",
      "source": [
        "cv.vocabulary_"
      ],
      "metadata": {
        "id": "YrVx3S1OS28I"
      },
      "execution_count": null,
      "outputs": []
    },
    {
      "cell_type": "markdown",
      "source": [
        "***We will face OOV Problem as Hulk is not present in our Vocabulary***"
      ],
      "metadata": {
        "id": "Gh9lmNs1T_7P"
      }
    },
    {
      "cell_type": "code",
      "source": [
        "cv.transform([\"Hulk eat a pizza\"]).toarray()"
      ],
      "metadata": {
        "id": "hZTlkCwLTItC"
      },
      "execution_count": null,
      "outputs": []
    },
    {
      "cell_type": "code",
      "source": [
        "cv.vocabulary_"
      ],
      "metadata": {
        "id": "8WRktfLzUiHs"
      },
      "execution_count": null,
      "outputs": []
    },
    {
      "cell_type": "markdown",
      "source": [
        "### Short Exercise"
      ],
      "metadata": {
        "id": "DaDXrezEFmS-"
      }
    },
    {
      "cell_type": "code",
      "source": [
        "import pandas as pd\n",
        "import spacy\n",
        "import numpy as np\n",
        "\n",
        "nlp = spacy.load('en_core_web_sm')"
      ],
      "metadata": {
        "id": "dBuCUSt7GM_f"
      },
      "execution_count": null,
      "outputs": []
    },
    {
      "cell_type": "code",
      "source": [
        "df = pd.read_csv('Fake_Real_Data.csv')\n",
        "print(df.shape)\n",
        "df.head()"
      ],
      "metadata": {
        "id": "cZ3x_cFMFoeg"
      },
      "execution_count": null,
      "outputs": []
    },
    {
      "cell_type": "code",
      "source": [
        "df['label'].value_counts()"
      ],
      "metadata": {
        "id": "3Me5hTybGWjs"
      },
      "execution_count": null,
      "outputs": []
    },
    {
      "cell_type": "markdown",
      "source": [
        "**Let's say we will apply undersampling in order to shorten the dataset and will only take 2000 real and 2000 fake samples**"
      ],
      "metadata": {
        "id": "B2EcvxAQGiNs"
      }
    },
    {
      "cell_type": "code",
      "source": [
        "min_samples = 500\n",
        "\n",
        "df_real = df[df['label'] =='Real'].sample(min_samples)\n",
        "df_fake = df[df['label'] == 'Fake'].sample(min_samples)\n",
        "\n",
        "df = pd.concat([df_real, df_fake], axis = 0)\n",
        "# Shuffle them, now the dataset will be random order.\n",
        "df = df.sample(frac=1).reset_index(drop=True)\n",
        "df.head()"
      ],
      "metadata": {
        "id": "ToZikrQBGekn"
      },
      "execution_count": null,
      "outputs": []
    },
    {
      "cell_type": "code",
      "source": [
        "df.shape"
      ],
      "metadata": {
        "id": "te5GUEvuHOmj"
      },
      "execution_count": null,
      "outputs": []
    },
    {
      "cell_type": "markdown",
      "source": [
        "***Let's create a preprocess function that will apply stop words, lemmatization, before feeding it to n-gram bag of words model***"
      ],
      "metadata": {
        "id": "I7-yf8NqIn7U"
      }
    },
    {
      "cell_type": "code",
      "source": [
        "def preprocess_with_lemma(text):\n",
        "  doc = nlp(text)\n",
        "  filtered_tokens = [token.lemma_ for token in doc if not token.is_stop and not token.is_punct]\n",
        "  return \" \".join(filtered_tokens)\n",
        "\n",
        "preprocess_with_lemma('Hello, this is just to check whether the function is Implemented correctly or not?')"
      ],
      "metadata": {
        "id": "0CxGUcjTIywf"
      },
      "execution_count": null,
      "outputs": []
    },
    {
      "cell_type": "code",
      "source": [
        "df['filtered_text'] = df['Text'].apply(preprocess_with_lemma)"
      ],
      "metadata": {
        "id": "HdWslYfxKfaK"
      },
      "execution_count": null,
      "outputs": []
    },
    {
      "cell_type": "code",
      "source": [
        "df.head(3)"
      ],
      "metadata": {
        "id": "bahbUP23KoXP"
      },
      "execution_count": null,
      "outputs": []
    },
    {
      "cell_type": "markdown",
      "source": [
        "***Let's see how much have we reduced from the first example***"
      ],
      "metadata": {
        "id": "NKgrSATUMUK2"
      }
    },
    {
      "cell_type": "code",
      "source": [
        "print(f\"Original Text length: {len(df['Text'][0])} | Filetered Text length: {len(df['filtered_text'][0])} \")"
      ],
      "metadata": {
        "id": "cqU_abOLMTZD"
      },
      "execution_count": null,
      "outputs": []
    },
    {
      "cell_type": "markdown",
      "source": [
        "***Label Encoding the Target Variable***\n",
        "\n",
        "*Fake --> 0 & Real --> 1*"
      ],
      "metadata": {
        "id": "z2SaTNo0L6mC"
      }
    },
    {
      "cell_type": "code",
      "source": [
        "from sklearn.preprocessing import LabelEncoder\n",
        "X, y = df['filtered_text'].values, df['label'].values\n",
        "\n",
        "le = LabelEncoder()\n",
        "y = le.fit_transform(y)\n",
        "y[:5]"
      ],
      "metadata": {
        "id": "I9Xpq71OL3hN"
      },
      "execution_count": null,
      "outputs": []
    },
    {
      "cell_type": "markdown",
      "source": [
        "***Let's build our Model***"
      ],
      "metadata": {
        "id": "fJAgMUA2KtRZ"
      }
    },
    {
      "cell_type": "code",
      "source": [
        "from sklearn.model_selection import train_test_split\n",
        "X_train, X_test, y_train, y_test = train_test_split(X, y, test_size=0.2, stratify=y)"
      ],
      "metadata": {
        "id": "qHKqy9-RLdGe"
      },
      "execution_count": null,
      "outputs": []
    },
    {
      "cell_type": "code",
      "source": [
        "from sklearn.pipeline import make_pipeline\n",
        "from sklearn.feature_extraction.text import CountVectorizer\n",
        "from sklearn.naive_bayes import MultinomialNB\n",
        "from sklearn.linear_model import LogisticRegression\n",
        "model_v0_pipeline = make_pipeline(CountVectorizer(ngram_range=(1,2)), MultinomialNB())\n",
        "model_v1_pipeline = make_pipeline(CountVectorizer(ngram_range=(1,2)), LogisticRegression(C=0.01, penalty='l2', solver='lbfgs'))\n",
        "model_v0_pipeline.fit(X_train, y_train)\n",
        "model_v1_pipeline.fit(X_train,y_train)"
      ],
      "metadata": {
        "id": "vBYpvvM2JNeT"
      },
      "execution_count": null,
      "outputs": []
    },
    {
      "cell_type": "markdown",
      "source": [
        "***Testing Accuracy of 98% Accuracy Not Bad! also Logistic is performing better than NB***"
      ],
      "metadata": {
        "id": "diOhwwMmNQ4F"
      }
    },
    {
      "cell_type": "code",
      "source": [
        "print(f\"Training Accuracy of NB model {model_v0_pipeline.score(X_train, y_train)*100:.2f} | Testing Accuracy {model_v0_pipeline.score(X_test, y_test)*100:.2f}\")\n",
        "print(f\"Training Accuracy of Logistic model {model_v1_pipeline.score(X_train, y_train)*100:.2f} | Testing Accuracy {model_v1_pipeline.score(X_test, y_test)*100:.2f}\")"
      ],
      "metadata": {
        "id": "uxnvVvXRMFHl"
      },
      "execution_count": null,
      "outputs": []
    },
    {
      "cell_type": "markdown",
      "source": [
        "***Print Classification Report in case of Imbalance Dataset***"
      ],
      "metadata": {
        "id": "nltfaAyTNtbJ"
      }
    },
    {
      "cell_type": "code",
      "source": [
        "from sklearn.metrics import classification_report\n",
        "y_pred = model_v1_pipeline.predict(X_test)\n",
        "print(classification_report(y_test, y_pred))"
      ],
      "metadata": {
        "id": "a6mYHM11NXy_"
      },
      "execution_count": null,
      "outputs": []
    },
    {
      "cell_type": "markdown",
      "source": [
        "### Tf-IDF Vectorizer"
      ],
      "metadata": {
        "id": "0l0cC40vRidk"
      }
    },
    {
      "cell_type": "code",
      "source": [
        "from sklearn.feature_extraction.text import TfidfVectorizer\n",
        "\n",
        "corpus = [\n",
        "    \"Thor eating pizza, Loki is eating pizza, Ironman ate pizza already\",\n",
        "    \"Apple is announcing new iphone tomorrow\",\n",
        "    \"Tesla is announcing new model-3 tomorrow\",\n",
        "    \"Google is announcing new pixel-6 tomorrow\",\n",
        "    \"Microsoft is announcing new surface tomorrow\",\n",
        "    \"Amazon is announcing new eco-dot tomorrow\",\n",
        "    \"I am eating biryani and you are eating grapes\"\n",
        "]"
      ],
      "metadata": {
        "id": "zU-PgS_ARlJd"
      },
      "execution_count": null,
      "outputs": []
    },
    {
      "cell_type": "code",
      "source": [
        "print(corpus)"
      ],
      "metadata": {
        "id": "sg4f9u0GSnPK"
      },
      "execution_count": null,
      "outputs": []
    },
    {
      "cell_type": "code",
      "source": [
        "tf_idf = TfidfVectorizer()\n",
        "tf_idf.fit_transform(corpus)\n",
        "print(tf_idf.vocabulary_)"
      ],
      "metadata": {
        "id": "Ph9XYqAHSp2V"
      },
      "execution_count": null,
      "outputs": []
    },
    {
      "cell_type": "markdown",
      "source": [
        "***Let's look at the Tf-Idf score for each words in the vocabulary `tf_idf.idf_[index]`***\n",
        "\n",
        "***So the word which occurs in most documents for a lot of time will have a very less influence and hence will have less score, vice versa***"
      ],
      "metadata": {
        "id": "s-OrbQUXS40-"
      }
    },
    {
      "cell_type": "code",
      "source": [
        "scores = []\n",
        "for key, value in tf_idf.vocabulary_.items():\n",
        "  scores.append([key,tf_idf.idf_[value]])\n",
        "  #print(f\"{key} == {tf_idf.idf_[value]}\")\n",
        "\n",
        "scores"
      ],
      "metadata": {
        "id": "Sh1VqpauS3Ig"
      },
      "execution_count": null,
      "outputs": []
    },
    {
      "cell_type": "markdown",
      "source": [
        "## Word Embedding"
      ],
      "metadata": {
        "id": "3x2pQn17l-IY"
      }
    },
    {
      "cell_type": "code",
      "source": [
        "df = pd.read_csv('Fake_Real_Data.csv')\n",
        "df.head()"
      ],
      "metadata": {
        "id": "-8dnhsX9Vh9G"
      },
      "execution_count": null,
      "outputs": []
    },
    {
      "cell_type": "code",
      "source": [
        "df.shape"
      ],
      "metadata": {
        "id": "p7HxdzIoosup"
      },
      "execution_count": null,
      "outputs": []
    },
    {
      "cell_type": "code",
      "source": [
        "df['label'].value_counts()"
      ],
      "metadata": {
        "id": "39QKtDrGoueU"
      },
      "execution_count": null,
      "outputs": []
    },
    {
      "cell_type": "code",
      "source": [
        "import spacy\n",
        "spacy.cli.download(\"en_core_web_lg\")\n",
        "nlp = spacy.load(\"en_core_web_lg\")"
      ],
      "metadata": {
        "id": "BwjYfbThoy15"
      },
      "execution_count": null,
      "outputs": []
    },
    {
      "cell_type": "code",
      "source": [
        "min_samples = 500\n",
        "\n",
        "df_real = df[df['label'] =='Real'].sample(min_samples)\n",
        "df_fake = df[df['label'] == 'Fake'].sample(min_samples)\n",
        "\n",
        "df = pd.concat([df_real, df_fake], axis = 0)\n",
        "# Shuffle them, now the dataset will be random order.\n",
        "df = df.sample(frac=1).reset_index(drop=True)\n",
        "df.head()"
      ],
      "metadata": {
        "id": "XWf8COAGpkhu"
      },
      "execution_count": null,
      "outputs": []
    },
    {
      "cell_type": "code",
      "source": [
        "df.shape"
      ],
      "metadata": {
        "id": "w1A77xiYpmMp"
      },
      "execution_count": null,
      "outputs": []
    },
    {
      "cell_type": "code",
      "source": [
        "df['vector'] = df['Text'].apply(lambda x: nlp(x).vector)"
      ],
      "metadata": {
        "id": "uWnS-8jZpn5v"
      },
      "execution_count": null,
      "outputs": []
    },
    {
      "cell_type": "markdown",
      "source": [
        "***We will now have a vector representation of each doc present in the dataset***"
      ],
      "metadata": {
        "id": "P3LuluqKqcEl"
      }
    },
    {
      "cell_type": "code",
      "source": [
        "df.head()"
      ],
      "metadata": {
        "id": "pdvD0zKjqJD5"
      },
      "execution_count": null,
      "outputs": []
    },
    {
      "cell_type": "markdown",
      "source": [
        "***Perform the label encoding***"
      ],
      "metadata": {
        "id": "3u0MZTBbqkID"
      }
    },
    {
      "cell_type": "code",
      "source": [
        "X,y = df['vector'].values, df['label'].values"
      ],
      "metadata": {
        "id": "xAFgeoQ4q7WO"
      },
      "execution_count": null,
      "outputs": []
    },
    {
      "cell_type": "code",
      "source": [
        "from sklearn.preprocessing import LabelEncoder\n",
        "\n",
        "le = LabelEncoder()\n",
        "y = le.fit_transform(y)\n",
        "y[:3]"
      ],
      "metadata": {
        "id": "0UDqEBAiqjfh"
      },
      "execution_count": null,
      "outputs": []
    },
    {
      "cell_type": "code",
      "source": [
        "from sklearn.model_selection import train_test_split\n",
        "\n",
        "X_train, X_test,y_train,y_test = train_test_split(X,y, test_size=0.2, stratify=y)"
      ],
      "metadata": {
        "id": "puaotI2HtBpJ"
      },
      "execution_count": null,
      "outputs": []
    },
    {
      "cell_type": "markdown",
      "source": [
        "***Building the Model***"
      ],
      "metadata": {
        "id": "22opeCK0r0_X"
      }
    },
    {
      "cell_type": "code",
      "source": [
        "X_train = np.stack(X_train)\n",
        "X_test = np.stack(X_test)"
      ],
      "metadata": {
        "id": "MLTtJtGTspP8"
      },
      "execution_count": null,
      "outputs": []
    },
    {
      "cell_type": "code",
      "source": [
        "from sklearn.pipeline import make_pipeline\n",
        "from sklearn.neighbors import KNeighborsClassifier\n",
        "from sklearn.preprocessing import StandardScaler\n",
        "model_v0_pipeline = make_pipeline(StandardScaler(), KNeighborsClassifier(n_neighbors = 5))\n",
        "model_v0_pipeline.fit(X_train, y_train)"
      ],
      "metadata": {
        "id": "h0oeIzulrCNe"
      },
      "execution_count": null,
      "outputs": []
    },
    {
      "cell_type": "code",
      "source": [
        "print(f\"Training Accuracy of NB model {model_v0_pipeline.score(X_train, y_train)*100:.2f} | Testing Accuracy {model_v0_pipeline.score(X_test, y_test)*100:.2f}\")"
      ],
      "metadata": {
        "id": "mviwRKursYXF"
      },
      "execution_count": null,
      "outputs": []
    },
    {
      "cell_type": "code",
      "source": [
        "from sklearn.metrics import classification_report\n",
        "print(classification_report(y_test, model_v0_pipeline.predict(X_test)))"
      ],
      "metadata": {
        "id": "T8tHMR38sxVi"
      },
      "execution_count": null,
      "outputs": []
    }
  ]
}